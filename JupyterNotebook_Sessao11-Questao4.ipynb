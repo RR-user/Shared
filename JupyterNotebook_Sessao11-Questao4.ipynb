{
 "cells": [
  {
   "cell_type": "code",
   "execution_count": 11,
   "metadata": {},
   "outputs": [],
   "source": [
    "# import pandas e numpy\n",
    "import pandas#; import numpy\n",
    "import numpy"
   ]
  },
  {
   "cell_type": "markdown",
   "metadata": {},
   "source": [
    "# Questão 4 blah blah +1\n",
    "    # Vamos definir 'AgeGroup' como a idade arredondada às dezenas. Portanto há um age group [0, 10[, outro [10, 20[, etc.\n",
    "    #\n",
    "    # Produzam um CSV com o seguinte conteúdo:\n",
    "    # Sex,AgeGroup,SurvivalRate\n",
    "    # Male,0-10,XXX\n",
    "    # Male,10-20,YYY\n",
    "    # Male,20-30,ZZZ\n",
    "    # ...\n",
    "    # Male,90-100,WWW\n",
    "    # Female,0-10,AAA\n",
    "    # Female,10-20,BBB\n",
    "    # ...\n",
    "    # Female,90-100,CCC\n",
    "    #\n",
    "    # Onde XXX, YYY, ZZZ, AAA, etc são as fracções de sobreviventes em cada um desses grupos.\n",
    "    #\n",
    "    # Embora naturalmente possam responder a isto fazendo a questão 3 repetidas vezes, eu quero que usem a função 'groupby' do pandas."
   ]
  },
  {
   "cell_type": "code",
   "execution_count": 13,
   "metadata": {},
   "outputs": [],
   "source": [
    "# Carregar dataframe do Titanic\n",
    "df = pandas.read_csv('titanic.csv')"
   ]
  },
  {
   "cell_type": "code",
   "execution_count": 25,
   "metadata": {},
   "outputs": [
    {
     "name": "stdout",
     "output_type": "stream",
     "text": [
      "       Sex      Age  Persons_Survived\n",
      "0   female   [0-10[                19\n",
      "1   female  [10-20[                34\n",
      "2   female  [20-30[                52\n",
      "3   female  [30-40[                50\n",
      "4   female  [40-50[                22\n",
      "5   female  [50-60[                16\n",
      "6   female  [60-70[                 4\n",
      "7   female  [70-80[                 0\n",
      "8   female  [80-90[                 0\n",
      "9     male   [0-10[                19\n",
      "10    male  [10-20[                 7\n",
      "11    male  [20-30[                25\n",
      "12    male  [30-40[                23\n",
      "13    male  [40-50[                12\n",
      "14    male  [50-60[                 4\n",
      "15    male  [60-70[                 2\n",
      "16    male  [70-80[                 0\n",
      "17    male  [80-90[                 1\n",
      "       Sex      Age  Persons\n",
      "0   female   [0-10[       30\n",
      "1   female  [10-20[       45\n",
      "2   female  [20-30[       72\n",
      "3   female  [30-40[       60\n",
      "4   female  [40-50[       32\n",
      "5   female  [50-60[       18\n",
      "6   female  [60-70[        4\n",
      "7   female  [70-80[        0\n",
      "8   female  [80-90[        0\n",
      "9     male   [0-10[       32\n",
      "10    male  [10-20[       57\n",
      "11    male  [20-30[      148\n",
      "12    male  [30-40[      107\n",
      "13    male  [40-50[       57\n",
      "14    male  [50-60[       30\n",
      "15    male  [60-70[       15\n",
      "16    male  [70-80[        6\n",
      "17    male  [80-90[        1\n"
     ]
    }
   ],
   "source": [
    "y = df.groupby('Survived')\n",
    "z=y.get_group(1)\n",
    "\n",
    "bins = [0, 9.9, 19.9, 29.9, 39.9, 49.9, 59.9, 69.9,79.9,89.9]\n",
    "labels=['[0-10[','[10-20[','[20-30[','[30-40[','[40-50[','[50-60[','[60-70[','[70-80[','[80-90[']\n",
    "\n",
    "a = df[df['Survived'] == 1].groupby(['Sex', pandas.cut(z[\"Age\"], bins=bins,labels=labels)]).size().reset_index(name='Persons_Survived')\n",
    "print(a)\n",
    "\n",
    "\n",
    "b = df.groupby(['Sex',pandas.cut(df[\"Age\"], bins=bins,labels=labels)]).size().reset_index(name='Persons')\n",
    "print(b)"
   ]
  },
  {
   "cell_type": "code",
   "execution_count": 27,
   "metadata": {},
   "outputs": [
    {
     "name": "stdout",
     "output_type": "stream",
     "text": [
      "       Sex      Age  Persons_Survived  Survival_Rate\n",
      "0   female   [0-10[                19       0.633333\n",
      "1   female  [10-20[                34       0.755556\n",
      "2   female  [20-30[                52       0.722222\n",
      "3   female  [30-40[                50       0.833333\n",
      "4   female  [40-50[                22       0.687500\n",
      "5   female  [50-60[                16       0.888889\n",
      "6   female  [60-70[                 4       1.000000\n",
      "7   female  [70-80[                 0            NaN\n",
      "8   female  [80-90[                 0            NaN\n",
      "9     male   [0-10[                19       0.593750\n",
      "10    male  [10-20[                 7       0.122807\n",
      "11    male  [20-30[                25       0.168919\n",
      "12    male  [30-40[                23       0.214953\n",
      "13    male  [40-50[                12       0.210526\n",
      "14    male  [50-60[                 4       0.133333\n",
      "15    male  [60-70[                 2       0.133333\n",
      "16    male  [70-80[                 0       0.000000\n",
      "17    male  [80-90[                 1       1.000000\n",
      "       Sex Age_group  Survival_Rate\n",
      "0   female    [0-10[       0.633333\n",
      "1   female   [10-20[       0.755556\n",
      "2   female   [20-30[       0.722222\n",
      "3   female   [30-40[       0.833333\n",
      "4   female   [40-50[       0.687500\n",
      "5   female   [50-60[       0.888889\n",
      "6   female   [60-70[       1.000000\n",
      "7   female   [70-80[            NaN\n",
      "8   female   [80-90[            NaN\n",
      "9     male    [0-10[       0.593750\n",
      "10    male   [10-20[       0.122807\n",
      "11    male   [20-30[       0.168919\n",
      "12    male   [30-40[       0.214953\n",
      "13    male   [40-50[       0.210526\n",
      "14    male   [50-60[       0.133333\n",
      "15    male   [60-70[       0.133333\n",
      "16    male   [70-80[       0.000000\n",
      "17    male   [80-90[       1.000000\n"
     ]
    }
   ],
   "source": [
    "a['Survival_Rate'] = a['Persons_Survived'] / b['Persons']\n",
    "#a.drop('Persons', inplace=True, axis=1)\n",
    "print(a)\n",
    "\n",
    "del a['Persons_Survived']\n",
    "\n",
    "a=a.rename(columns={'Age':'Age_group'})\n",
    "print(a)"
   ]
  },
  {
   "cell_type": "code",
   "execution_count": 28,
   "metadata": {},
   "outputs": [
    {
     "data": {
      "text/html": [
       "<div>\n",
       "<style scoped>\n",
       "    .dataframe tbody tr th:only-of-type {\n",
       "        vertical-align: middle;\n",
       "    }\n",
       "\n",
       "    .dataframe tbody tr th {\n",
       "        vertical-align: top;\n",
       "    }\n",
       "\n",
       "    .dataframe thead th {\n",
       "        text-align: right;\n",
       "    }\n",
       "</style>\n",
       "<table border=\"1\" class=\"dataframe\">\n",
       "  <thead>\n",
       "    <tr style=\"text-align: right;\">\n",
       "      <th></th>\n",
       "      <th>Sex</th>\n",
       "      <th>Age_group</th>\n",
       "      <th>Survival_Rate</th>\n",
       "    </tr>\n",
       "  </thead>\n",
       "  <tbody>\n",
       "    <tr>\n",
       "      <th>0</th>\n",
       "      <td>female</td>\n",
       "      <td>[0-10[</td>\n",
       "      <td>0.633333</td>\n",
       "    </tr>\n",
       "    <tr>\n",
       "      <th>1</th>\n",
       "      <td>female</td>\n",
       "      <td>[10-20[</td>\n",
       "      <td>0.755556</td>\n",
       "    </tr>\n",
       "    <tr>\n",
       "      <th>2</th>\n",
       "      <td>female</td>\n",
       "      <td>[20-30[</td>\n",
       "      <td>0.722222</td>\n",
       "    </tr>\n",
       "    <tr>\n",
       "      <th>3</th>\n",
       "      <td>female</td>\n",
       "      <td>[30-40[</td>\n",
       "      <td>0.833333</td>\n",
       "    </tr>\n",
       "    <tr>\n",
       "      <th>4</th>\n",
       "      <td>female</td>\n",
       "      <td>[40-50[</td>\n",
       "      <td>0.687500</td>\n",
       "    </tr>\n",
       "    <tr>\n",
       "      <th>5</th>\n",
       "      <td>female</td>\n",
       "      <td>[50-60[</td>\n",
       "      <td>0.888889</td>\n",
       "    </tr>\n",
       "    <tr>\n",
       "      <th>6</th>\n",
       "      <td>female</td>\n",
       "      <td>[60-70[</td>\n",
       "      <td>1.000000</td>\n",
       "    </tr>\n",
       "    <tr>\n",
       "      <th>7</th>\n",
       "      <td>female</td>\n",
       "      <td>[70-80[</td>\n",
       "      <td>NaN</td>\n",
       "    </tr>\n",
       "    <tr>\n",
       "      <th>8</th>\n",
       "      <td>female</td>\n",
       "      <td>[80-90[</td>\n",
       "      <td>NaN</td>\n",
       "    </tr>\n",
       "    <tr>\n",
       "      <th>9</th>\n",
       "      <td>male</td>\n",
       "      <td>[0-10[</td>\n",
       "      <td>0.593750</td>\n",
       "    </tr>\n",
       "    <tr>\n",
       "      <th>10</th>\n",
       "      <td>male</td>\n",
       "      <td>[10-20[</td>\n",
       "      <td>0.122807</td>\n",
       "    </tr>\n",
       "    <tr>\n",
       "      <th>11</th>\n",
       "      <td>male</td>\n",
       "      <td>[20-30[</td>\n",
       "      <td>0.168919</td>\n",
       "    </tr>\n",
       "    <tr>\n",
       "      <th>12</th>\n",
       "      <td>male</td>\n",
       "      <td>[30-40[</td>\n",
       "      <td>0.214953</td>\n",
       "    </tr>\n",
       "    <tr>\n",
       "      <th>13</th>\n",
       "      <td>male</td>\n",
       "      <td>[40-50[</td>\n",
       "      <td>0.210526</td>\n",
       "    </tr>\n",
       "    <tr>\n",
       "      <th>14</th>\n",
       "      <td>male</td>\n",
       "      <td>[50-60[</td>\n",
       "      <td>0.133333</td>\n",
       "    </tr>\n",
       "    <tr>\n",
       "      <th>15</th>\n",
       "      <td>male</td>\n",
       "      <td>[60-70[</td>\n",
       "      <td>0.133333</td>\n",
       "    </tr>\n",
       "    <tr>\n",
       "      <th>16</th>\n",
       "      <td>male</td>\n",
       "      <td>[70-80[</td>\n",
       "      <td>0.000000</td>\n",
       "    </tr>\n",
       "    <tr>\n",
       "      <th>17</th>\n",
       "      <td>male</td>\n",
       "      <td>[80-90[</td>\n",
       "      <td>1.000000</td>\n",
       "    </tr>\n",
       "  </tbody>\n",
       "</table>\n",
       "</div>"
      ],
      "text/plain": [
       "       Sex Age_group  Survival_Rate\n",
       "0   female    [0-10[       0.633333\n",
       "1   female   [10-20[       0.755556\n",
       "2   female   [20-30[       0.722222\n",
       "3   female   [30-40[       0.833333\n",
       "4   female   [40-50[       0.687500\n",
       "5   female   [50-60[       0.888889\n",
       "6   female   [60-70[       1.000000\n",
       "7   female   [70-80[            NaN\n",
       "8   female   [80-90[            NaN\n",
       "9     male    [0-10[       0.593750\n",
       "10    male   [10-20[       0.122807\n",
       "11    male   [20-30[       0.168919\n",
       "12    male   [30-40[       0.214953\n",
       "13    male   [40-50[       0.210526\n",
       "14    male   [50-60[       0.133333\n",
       "15    male   [60-70[       0.133333\n",
       "16    male   [70-80[       0.000000\n",
       "17    male   [80-90[       1.000000"
      ]
     },
     "execution_count": 28,
     "metadata": {},
     "output_type": "execute_result"
    }
   ],
   "source": [
    "a.to_csv('Question4_RESULT_B.csv', index = False)\n",
    "df2 = pandas.read_csv('Question4_RESULT_B.csv')\n",
    "df2"
   ]
  },
  {
   "cell_type": "code",
   "execution_count": 29,
   "metadata": {},
   "outputs": [],
   "source": [
    "# import matplotlib\n",
    "import matplotlib.pyplot as plt"
   ]
  },
  {
   "cell_type": "code",
   "execution_count": 30,
   "metadata": {},
   "outputs": [
    {
     "data": {
      "text/plain": [
       "Text(0, 0.5, 'Rate')"
      ]
     },
     "execution_count": 30,
     "metadata": {},
     "output_type": "execute_result"
    },
    {
     "data": {
      "image/png": "[encoded data removed]",
      "text/plain": [
       "<Figure size 432x288 with 1 Axes>"
      ]
     },
     "metadata": {
      "needs_background": "light"
     },
     "output_type": "display_data"
    }
   ],
   "source": [
    "# Female survival rate plot\n",
    "\n",
    "grouped = df2.groupby('Sex')\n",
    "a=grouped.get_group('female')\n",
    "\n",
    "x=a['Age_group']\n",
    "\n",
    "y1=a['Survival_Rate']\n",
    "\n",
    "fig = plt.figure()\n",
    "\n",
    "plt.bar(x, y1,color='b')\n",
    "\n",
    "fig.suptitle('Female survival rate per age group', fontsize=16)\n",
    "\n",
    "plt.xlabel('Age_group', fontsize=18)\n",
    "plt.ylabel('Rate', fontsize=16)"
   ]
  },
  {
   "cell_type": "code",
   "execution_count": 31,
   "metadata": {
    "scrolled": true
   },
   "outputs": [
    {
     "data": {
      "text/plain": [
       "Text(0, 0.5, 'Rate')"
      ]
     },
     "execution_count": 31,
     "metadata": {},
     "output_type": "execute_result"
    },
    {
     "data": {
      "image/png": "[encoded data removed]",
      "text/plain": [
       "<Figure size 432x288 with 1 Axes>"
      ]
     },
     "metadata": {
      "needs_background": "light"
     },
     "output_type": "display_data"
    }
   ],
   "source": [
    "# Male survival rate plot\n",
    "\n",
    "b=grouped.get_group('male')\n",
    "y2=b['Survival_Rate']\n",
    "\n",
    "fig = plt.figure()\n",
    "\n",
    "plt.bar(x, y2,color='r')\n",
    "\n",
    "fig.suptitle('Male survival rate per age group', fontsize=16)\n",
    "\n",
    "plt.xlabel('Age_group', fontsize=18)\n",
    "plt.ylabel('Rate', fontsize=16)"
   ]
  }
 ],
 "metadata": {
  "kernelspec": {
   "display_name": "Python 3",
   "language": "python",
   "name": "python3"
  },
  "language_info": {
   "codemirror_mode": {
    "name": "ipython",
    "version": 3
   },
   "file_extension": ".py",
   "mimetype": "text/x-python",
   "name": "python",
   "nbconvert_exporter": "python",
   "pygments_lexer": "ipython3",
   "version": "3.8.5"
  }
 },
 "nbformat": 4,
 "nbformat_minor": 4
}
